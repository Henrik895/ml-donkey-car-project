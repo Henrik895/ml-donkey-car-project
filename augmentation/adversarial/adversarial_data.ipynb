{
 "cells": [
  {
   "cell_type": "code",
   "execution_count": 75,
   "id": "ea0cdfdb",
   "metadata": {},
   "outputs": [],
   "source": [
    "import numpy as np\n",
    "import matplotlib.pyplot as plt\n",
    "import tensorflow as tf\n",
    "import tensorflow.keras as keras\n",
    "import os\n",
    "import sys\n",
    "from tqdm import tqdm"
   ]
  },
  {
   "cell_type": "code",
   "execution_count": 117,
   "id": "61e0b0e7",
   "metadata": {},
   "outputs": [],
   "source": [
    "# Load the model\n",
    "model = tf.keras.models.load_model('models/test25.h5')\n",
    "\n",
    "image_files = os.listdir('tub_1_22-11-12/images/')\n",
    "images = np.zeros((len(image_files),120,160,3), dtype=\"float\")\n",
    "true_angles_all = np.zeros((len(image_files),1))\n",
    "#model = tf.keras.models.load_model('sys.argv[1]')\n",
    "lr = 3"
   ]
  },
  {
   "cell_type": "code",
   "execution_count": 118,
   "id": "be225dcf",
   "metadata": {},
   "outputs": [
    {
     "name": "stderr",
     "output_type": "stream",
     "text": [
      "100%|██████████████████████████████████████████████████████████████████████████| 32852/32852 [00:30<00:00, 1086.38it/s]\n"
     ]
    }
   ],
   "source": [
    "# for filename in os.listdir('sys.argv[2]' + /images/)\n",
    "for count in tqdm(range(len(image_files)-len(image_files)%1000)):\n",
    "    # Read in the new catalog. From catalog we get true values for the picture.\n",
    "    if count % 1000 == 0:\n",
    "        #with open(f'{sys.argv[2]}/catalog_{count%1000}.catalog') as f:\n",
    "        with open(f'tub_1_22-11-12/catalog_{count%1000}.catalog', 'r') as f:\n",
    "            text_org = f.read()\n",
    "            text = text_org.split(\"\\n\")\n",
    "        with open(f'images_adversarial/tub_1_22-11-12_adversarial/catalog_{int(count/1000)}.catalog', 'w') as f:\n",
    "            f.write(text_org)\n",
    "    \n",
    "    # Get the true throttle and steering angle of the image.\n",
    "    values = text[count%1000].split(\", \")\n",
    "    filename = values[3][20:-1]\n",
    "    true_angles_all[count] = float(values[4][14:])\n",
    "    #true_throttle = float(values[6][17:-1])\n",
    "    \n",
    "    # Load in the image\n",
    "    _img = keras.preprocessing.image.load_img(f'tub_1_22-11-12/images/{filename}')\n",
    "    img = keras.preprocessing.image.img_to_array(_img)\n",
    "    images[count,:] = img\n",
    "    "
   ]
  },
  {
   "cell_type": "code",
   "execution_count": 121,
   "id": "0486789d",
   "metadata": {},
   "outputs": [
    {
     "name": "stderr",
     "output_type": "stream",
     "text": [
      "\r\n",
      "  0%|                                                                                           | 0/32 [00:00<?, ?it/s]"
     ]
    },
    {
     "name": "stdout",
     "output_type": "stream",
     "text": [
      "0 iterations done\n",
      "1 iterations done\n",
      "2 iterations done\n",
      "3 iterations done\n",
      "4 iterations done\n",
      "5 iterations done\n",
      "6 iterations done\n",
      "7 iterations done\n",
      "8 iterations done\n",
      "9 iterations done\n",
      "10 iterations done\n",
      "11 iterations done\n",
      "12 iterations done\n",
      "13 iterations done\n",
      "14 iterations done\n"
     ]
    },
    {
     "name": "stderr",
     "output_type": "stream",
     "text": [
      "\r\n",
      "  3%|██▌                                                                               | 1/32 [01:45<54:35, 105.67s/it]"
     ]
    },
    {
     "name": "stdout",
     "output_type": "stream",
     "text": [
      "0 iterations done\n",
      "1 iterations done\n",
      "2 iterations done\n",
      "3 iterations done\n",
      "4 iterations done\n",
      "5 iterations done\n",
      "6 iterations done\n",
      "7 iterations done\n",
      "8 iterations done\n",
      "9 iterations done\n",
      "10 iterations done\n",
      "11 iterations done\n",
      "12 iterations done\n",
      "13 iterations done\n",
      "14 iterations done\n"
     ]
    },
    {
     "name": "stderr",
     "output_type": "stream",
     "text": [
      "\r\n",
      "  6%|█████▏                                                                            | 2/32 [03:50<58:23, 116.79s/it]"
     ]
    },
    {
     "name": "stdout",
     "output_type": "stream",
     "text": [
      "0 iterations done\n",
      "1 iterations done\n",
      "2 iterations done\n",
      "3 iterations done\n",
      "4 iterations done\n",
      "5 iterations done\n",
      "6 iterations done\n",
      "7 iterations done\n",
      "8 iterations done\n",
      "9 iterations done\n",
      "10 iterations done\n",
      "11 iterations done\n",
      "12 iterations done\n",
      "13 iterations done\n",
      "14 iterations done\n"
     ]
    },
    {
     "name": "stderr",
     "output_type": "stream",
     "text": [
      "\r\n",
      "  9%|███████▋                                                                          | 3/32 [05:46<56:21, 116.60s/it]"
     ]
    },
    {
     "name": "stdout",
     "output_type": "stream",
     "text": [
      "0 iterations done\n",
      "1 iterations done\n",
      "2 iterations done\n",
      "3 iterations done\n",
      "4 iterations done\n",
      "5 iterations done\n",
      "6 iterations done\n",
      "7 iterations done\n",
      "8 iterations done\n",
      "9 iterations done\n",
      "10 iterations done\n",
      "11 iterations done\n",
      "12 iterations done\n",
      "13 iterations done\n",
      "14 iterations done\n"
     ]
    },
    {
     "name": "stderr",
     "output_type": "stream",
     "text": [
      "\r\n",
      " 12%|██████████▎                                                                       | 4/32 [07:37<53:18, 114.24s/it]"
     ]
    },
    {
     "name": "stdout",
     "output_type": "stream",
     "text": [
      "0 iterations done\n",
      "1 iterations done\n",
      "2 iterations done\n",
      "3 iterations done\n",
      "4 iterations done\n",
      "5 iterations done\n",
      "6 iterations done\n",
      "7 iterations done\n",
      "8 iterations done\n",
      "9 iterations done\n",
      "10 iterations done\n",
      "11 iterations done\n",
      "12 iterations done\n",
      "13 iterations done\n",
      "14 iterations done\n"
     ]
    },
    {
     "name": "stderr",
     "output_type": "stream",
     "text": [
      "\r\n",
      " 16%|████████████▊                                                                     | 5/32 [09:29<51:01, 113.37s/it]"
     ]
    },
    {
     "name": "stdout",
     "output_type": "stream",
     "text": [
      "0 iterations done\n",
      "1 iterations done\n",
      "2 iterations done\n",
      "3 iterations done\n",
      "4 iterations done\n",
      "5 iterations done\n",
      "6 iterations done\n",
      "7 iterations done\n",
      "8 iterations done\n",
      "9 iterations done\n",
      "10 iterations done\n",
      "11 iterations done\n",
      "12 iterations done\n",
      "13 iterations done\n",
      "14 iterations done\n"
     ]
    },
    {
     "name": "stderr",
     "output_type": "stream",
     "text": [
      "\r\n",
      " 19%|███████████████▍                                                                  | 6/32 [11:22<49:04, 113.25s/it]"
     ]
    },
    {
     "name": "stdout",
     "output_type": "stream",
     "text": [
      "0 iterations done\n",
      "1 iterations done\n",
      "2 iterations done\n",
      "3 iterations done\n",
      "4 iterations done\n",
      "5 iterations done\n",
      "6 iterations done\n",
      "7 iterations done\n",
      "8 iterations done\n",
      "9 iterations done\n",
      "10 iterations done\n",
      "11 iterations done\n",
      "12 iterations done\n",
      "13 iterations done\n",
      "14 iterations done\n"
     ]
    },
    {
     "name": "stderr",
     "output_type": "stream",
     "text": [
      "\r\n",
      " 22%|█████████████████▉                                                                | 7/32 [13:12<46:47, 112.30s/it]"
     ]
    },
    {
     "name": "stdout",
     "output_type": "stream",
     "text": [
      "0 iterations done\n",
      "1 iterations done\n",
      "2 iterations done\n",
      "3 iterations done\n",
      "4 iterations done\n",
      "5 iterations done\n",
      "6 iterations done\n",
      "7 iterations done\n",
      "8 iterations done\n",
      "9 iterations done\n",
      "10 iterations done\n",
      "11 iterations done\n",
      "12 iterations done\n",
      "13 iterations done\n",
      "14 iterations done\n"
     ]
    },
    {
     "name": "stderr",
     "output_type": "stream",
     "text": [
      "\r\n",
      " 25%|████████████████████▌                                                             | 8/32 [15:07<45:17, 113.23s/it]"
     ]
    },
    {
     "name": "stdout",
     "output_type": "stream",
     "text": [
      "0 iterations done\n",
      "1 iterations done\n",
      "2 iterations done\n",
      "3 iterations done\n",
      "4 iterations done\n",
      "5 iterations done\n",
      "6 iterations done\n",
      "7 iterations done\n",
      "8 iterations done\n",
      "9 iterations done\n",
      "10 iterations done\n",
      "11 iterations done\n",
      "12 iterations done\n",
      "13 iterations done\n",
      "14 iterations done\n"
     ]
    },
    {
     "name": "stderr",
     "output_type": "stream",
     "text": [
      "\r\n",
      " 28%|███████████████████████                                                           | 9/32 [16:58<43:09, 112.58s/it]"
     ]
    },
    {
     "name": "stdout",
     "output_type": "stream",
     "text": [
      "0 iterations done\n",
      "1 iterations done\n",
      "2 iterations done\n",
      "3 iterations done\n",
      "4 iterations done\n",
      "5 iterations done\n",
      "6 iterations done\n",
      "7 iterations done\n",
      "8 iterations done\n",
      "9 iterations done\n",
      "10 iterations done\n",
      "11 iterations done\n",
      "12 iterations done\n",
      "13 iterations done\n",
      "14 iterations done\n"
     ]
    },
    {
     "name": "stderr",
     "output_type": "stream",
     "text": [
      "\r\n",
      " 31%|█████████████████████████▎                                                       | 10/32 [18:51<41:17, 112.63s/it]"
     ]
    },
    {
     "name": "stdout",
     "output_type": "stream",
     "text": [
      "0 iterations done\n",
      "1 iterations done\n",
      "2 iterations done\n",
      "3 iterations done\n",
      "4 iterations done\n",
      "5 iterations done\n",
      "6 iterations done\n",
      "7 iterations done\n",
      "8 iterations done\n",
      "9 iterations done\n",
      "10 iterations done\n",
      "11 iterations done\n",
      "12 iterations done\n",
      "13 iterations done\n",
      "14 iterations done\n"
     ]
    },
    {
     "name": "stderr",
     "output_type": "stream",
     "text": [
      "\r\n",
      " 34%|███████████████████████████▊                                                     | 11/32 [20:51<40:12, 114.90s/it]"
     ]
    },
    {
     "name": "stdout",
     "output_type": "stream",
     "text": [
      "0 iterations done\n",
      "1 iterations done\n",
      "2 iterations done\n",
      "3 iterations done\n",
      "4 iterations done\n",
      "5 iterations done\n",
      "6 iterations done\n",
      "7 iterations done\n",
      "8 iterations done\n",
      "9 iterations done\n",
      "10 iterations done\n",
      "11 iterations done\n",
      "12 iterations done\n",
      "13 iterations done\n",
      "14 iterations done\n"
     ]
    },
    {
     "name": "stderr",
     "output_type": "stream",
     "text": [
      "\r\n",
      " 38%|██████████████████████████████▍                                                  | 12/32 [22:49<38:34, 115.74s/it]"
     ]
    },
    {
     "name": "stdout",
     "output_type": "stream",
     "text": [
      "0 iterations done\n",
      "1 iterations done\n",
      "2 iterations done\n",
      "3 iterations done\n",
      "4 iterations done\n",
      "5 iterations done\n",
      "6 iterations done\n",
      "7 iterations done\n",
      "8 iterations done\n",
      "9 iterations done\n",
      "10 iterations done\n",
      "11 iterations done\n",
      "12 iterations done\n",
      "13 iterations done\n",
      "14 iterations done\n"
     ]
    },
    {
     "name": "stderr",
     "output_type": "stream",
     "text": [
      "\r\n",
      " 41%|████████████████████████████████▉                                                | 13/32 [24:45<36:41, 115.88s/it]"
     ]
    },
    {
     "name": "stdout",
     "output_type": "stream",
     "text": [
      "0 iterations done\n",
      "1 iterations done\n",
      "2 iterations done\n",
      "3 iterations done\n",
      "4 iterations done\n",
      "5 iterations done\n",
      "6 iterations done\n",
      "7 iterations done\n",
      "8 iterations done\n",
      "9 iterations done\n",
      "10 iterations done\n",
      "11 iterations done\n",
      "12 iterations done\n",
      "13 iterations done\n",
      "14 iterations done\n"
     ]
    },
    {
     "name": "stderr",
     "output_type": "stream",
     "text": [
      "\r\n",
      " 44%|███████████████████████████████████▍                                             | 14/32 [27:14<37:46, 125.93s/it]"
     ]
    },
    {
     "name": "stdout",
     "output_type": "stream",
     "text": [
      "0 iterations done\n",
      "1 iterations done\n",
      "2 iterations done\n",
      "3 iterations done\n",
      "4 iterations done\n",
      "5 iterations done\n",
      "6 iterations done\n",
      "7 iterations done\n",
      "8 iterations done\n",
      "9 iterations done\n",
      "10 iterations done\n",
      "11 iterations done\n",
      "12 iterations done\n",
      "13 iterations done\n",
      "14 iterations done\n"
     ]
    },
    {
     "name": "stderr",
     "output_type": "stream",
     "text": [
      "\r\n",
      " 47%|█████████████████████████████████████▉                                           | 15/32 [29:18<35:31, 125.37s/it]"
     ]
    },
    {
     "name": "stdout",
     "output_type": "stream",
     "text": [
      "0 iterations done\n",
      "1 iterations done\n",
      "2 iterations done\n",
      "3 iterations done\n",
      "4 iterations done\n",
      "5 iterations done\n",
      "6 iterations done\n",
      "7 iterations done\n",
      "8 iterations done\n",
      "9 iterations done\n",
      "10 iterations done\n",
      "11 iterations done\n",
      "12 iterations done\n",
      "13 iterations done\n",
      "14 iterations done\n"
     ]
    },
    {
     "name": "stderr",
     "output_type": "stream",
     "text": [
      "\r\n",
      " 50%|████████████████████████████████████████▌                                        | 16/32 [31:20<33:08, 124.30s/it]"
     ]
    },
    {
     "name": "stdout",
     "output_type": "stream",
     "text": [
      "0 iterations done\n",
      "1 iterations done\n",
      "2 iterations done\n",
      "3 iterations done\n",
      "4 iterations done\n",
      "5 iterations done\n",
      "6 iterations done\n",
      "7 iterations done\n",
      "8 iterations done\n",
      "9 iterations done\n",
      "10 iterations done\n",
      "11 iterations done\n",
      "12 iterations done\n",
      "13 iterations done\n",
      "14 iterations done\n"
     ]
    },
    {
     "name": "stderr",
     "output_type": "stream",
     "text": [
      "\r\n",
      " 53%|███████████████████████████████████████████                                      | 17/32 [33:22<30:55, 123.72s/it]"
     ]
    },
    {
     "name": "stdout",
     "output_type": "stream",
     "text": [
      "0 iterations done\n",
      "1 iterations done\n",
      "2 iterations done\n",
      "3 iterations done\n",
      "4 iterations done\n",
      "5 iterations done\n",
      "6 iterations done\n",
      "7 iterations done\n",
      "8 iterations done\n",
      "9 iterations done\n",
      "10 iterations done\n",
      "11 iterations done\n",
      "12 iterations done\n",
      "13 iterations done\n",
      "14 iterations done\n"
     ]
    },
    {
     "name": "stderr",
     "output_type": "stream",
     "text": [
      "\r\n",
      " 56%|█████████████████████████████████████████████▌                                   | 18/32 [35:31<29:11, 125.08s/it]"
     ]
    },
    {
     "name": "stdout",
     "output_type": "stream",
     "text": [
      "0 iterations done\n",
      "1 iterations done\n",
      "2 iterations done\n",
      "3 iterations done\n",
      "4 iterations done\n",
      "5 iterations done\n",
      "6 iterations done\n",
      "7 iterations done\n",
      "8 iterations done\n",
      "9 iterations done\n",
      "10 iterations done\n",
      "11 iterations done\n",
      "12 iterations done\n",
      "13 iterations done\n",
      "14 iterations done\n"
     ]
    },
    {
     "name": "stderr",
     "output_type": "stream",
     "text": [
      "\r\n",
      " 59%|████████████████████████████████████████████████                                 | 19/32 [37:28<26:37, 122.86s/it]"
     ]
    },
    {
     "name": "stdout",
     "output_type": "stream",
     "text": [
      "0 iterations done\n",
      "1 iterations done\n",
      "2 iterations done\n",
      "3 iterations done\n",
      "4 iterations done\n",
      "5 iterations done\n",
      "6 iterations done\n",
      "7 iterations done\n",
      "8 iterations done\n",
      "9 iterations done\n",
      "10 iterations done\n",
      "11 iterations done\n",
      "12 iterations done\n",
      "13 iterations done\n",
      "14 iterations done\n"
     ]
    },
    {
     "name": "stderr",
     "output_type": "stream",
     "text": [
      "\r\n",
      " 62%|██████████████████████████████████████████████████▋                              | 20/32 [39:33<24:40, 123.36s/it]"
     ]
    },
    {
     "name": "stdout",
     "output_type": "stream",
     "text": [
      "0 iterations done\n",
      "1 iterations done\n",
      "2 iterations done\n",
      "3 iterations done\n",
      "4 iterations done\n",
      "5 iterations done\n",
      "6 iterations done\n",
      "7 iterations done\n",
      "8 iterations done\n",
      "9 iterations done\n",
      "10 iterations done\n",
      "11 iterations done\n",
      "12 iterations done\n",
      "13 iterations done\n",
      "14 iterations done\n"
     ]
    },
    {
     "name": "stderr",
     "output_type": "stream",
     "text": [
      "\r\n",
      " 66%|█████████████████████████████████████████████████████▏                           | 21/32 [41:47<23:11, 126.51s/it]"
     ]
    },
    {
     "name": "stdout",
     "output_type": "stream",
     "text": [
      "0 iterations done\n",
      "1 iterations done\n",
      "2 iterations done\n",
      "3 iterations done\n",
      "4 iterations done\n",
      "5 iterations done\n",
      "6 iterations done\n",
      "7 iterations done\n",
      "8 iterations done\n",
      "9 iterations done\n",
      "10 iterations done\n",
      "11 iterations done\n",
      "12 iterations done\n",
      "13 iterations done\n",
      "14 iterations done\n"
     ]
    },
    {
     "name": "stderr",
     "output_type": "stream",
     "text": [
      "\r\n",
      " 69%|███████████████████████████████████████████████████████▋                         | 22/32 [43:50<20:56, 125.63s/it]"
     ]
    },
    {
     "name": "stdout",
     "output_type": "stream",
     "text": [
      "0 iterations done\n",
      "1 iterations done\n",
      "2 iterations done\n",
      "3 iterations done\n",
      "4 iterations done\n",
      "5 iterations done\n",
      "6 iterations done\n",
      "7 iterations done\n",
      "8 iterations done\n",
      "9 iterations done\n",
      "10 iterations done\n",
      "11 iterations done\n",
      "12 iterations done\n",
      "13 iterations done\n",
      "14 iterations done\n"
     ]
    },
    {
     "name": "stderr",
     "output_type": "stream",
     "text": [
      "\r\n",
      " 72%|██████████████████████████████████████████████████████████▏                      | 23/32 [45:56<18:51, 125.71s/it]"
     ]
    },
    {
     "name": "stdout",
     "output_type": "stream",
     "text": [
      "0 iterations done\n",
      "1 iterations done\n",
      "2 iterations done\n",
      "3 iterations done\n",
      "4 iterations done\n",
      "5 iterations done\n",
      "6 iterations done\n",
      "7 iterations done\n",
      "8 iterations done\n",
      "9 iterations done\n",
      "10 iterations done\n",
      "11 iterations done\n",
      "12 iterations done\n",
      "13 iterations done\n",
      "14 iterations done\n"
     ]
    },
    {
     "name": "stderr",
     "output_type": "stream",
     "text": [
      "\r\n",
      " 75%|████████████████████████████████████████████████████████████▊                    | 24/32 [47:49<16:15, 121.97s/it]"
     ]
    },
    {
     "name": "stdout",
     "output_type": "stream",
     "text": [
      "0 iterations done\n",
      "1 iterations done\n",
      "2 iterations done\n",
      "3 iterations done\n",
      "4 iterations done\n",
      "5 iterations done\n",
      "6 iterations done\n",
      "7 iterations done\n",
      "8 iterations done\n",
      "9 iterations done\n",
      "10 iterations done\n",
      "11 iterations done\n",
      "12 iterations done\n",
      "13 iterations done\n",
      "14 iterations done\n"
     ]
    },
    {
     "name": "stderr",
     "output_type": "stream",
     "text": [
      "\r\n",
      " 78%|███████████████████████████████████████████████████████████████▎                 | 25/32 [49:42<13:55, 119.31s/it]"
     ]
    },
    {
     "name": "stdout",
     "output_type": "stream",
     "text": [
      "0 iterations done\n",
      "1 iterations done\n",
      "2 iterations done\n",
      "3 iterations done\n",
      "4 iterations done\n",
      "5 iterations done\n",
      "6 iterations done\n",
      "7 iterations done\n",
      "8 iterations done\n",
      "9 iterations done\n",
      "10 iterations done\n",
      "11 iterations done\n",
      "12 iterations done\n",
      "13 iterations done\n",
      "14 iterations done\n"
     ]
    },
    {
     "name": "stderr",
     "output_type": "stream",
     "text": [
      "\r\n",
      " 81%|█████████████████████████████████████████████████████████████████▊               | 26/32 [51:35<11:43, 117.30s/it]"
     ]
    },
    {
     "name": "stdout",
     "output_type": "stream",
     "text": [
      "0 iterations done\n",
      "1 iterations done\n",
      "2 iterations done\n",
      "3 iterations done\n",
      "4 iterations done\n",
      "5 iterations done\n",
      "6 iterations done\n",
      "7 iterations done\n",
      "8 iterations done\n",
      "9 iterations done\n",
      "10 iterations done\n",
      "11 iterations done\n",
      "12 iterations done\n",
      "13 iterations done\n",
      "14 iterations done\n"
     ]
    },
    {
     "name": "stderr",
     "output_type": "stream",
     "text": [
      "\r\n",
      " 84%|████████████████████████████████████████████████████████████████████▎            | 27/32 [53:27<09:38, 115.70s/it]"
     ]
    },
    {
     "name": "stdout",
     "output_type": "stream",
     "text": [
      "0 iterations done\n",
      "1 iterations done\n",
      "2 iterations done\n",
      "3 iterations done\n",
      "4 iterations done\n",
      "5 iterations done\n",
      "6 iterations done\n",
      "7 iterations done\n",
      "8 iterations done\n",
      "9 iterations done\n",
      "10 iterations done\n",
      "11 iterations done\n",
      "12 iterations done\n",
      "13 iterations done\n",
      "14 iterations done\n"
     ]
    },
    {
     "name": "stderr",
     "output_type": "stream",
     "text": [
      "\r\n",
      " 88%|██████████████████████████████████████████████████████████████████████▉          | 28/32 [55:19<07:38, 114.57s/it]"
     ]
    },
    {
     "name": "stdout",
     "output_type": "stream",
     "text": [
      "0 iterations done\n",
      "1 iterations done\n",
      "2 iterations done\n",
      "3 iterations done\n",
      "4 iterations done\n",
      "5 iterations done\n",
      "6 iterations done\n",
      "7 iterations done\n",
      "8 iterations done\n",
      "9 iterations done\n",
      "10 iterations done\n",
      "11 iterations done\n",
      "12 iterations done\n",
      "13 iterations done\n",
      "14 iterations done\n"
     ]
    },
    {
     "name": "stderr",
     "output_type": "stream",
     "text": [
      "\r\n",
      " 91%|█████████████████████████████████████████████████████████████████████████▍       | 29/32 [57:16<05:45, 115.19s/it]"
     ]
    },
    {
     "name": "stdout",
     "output_type": "stream",
     "text": [
      "0 iterations done\n",
      "1 iterations done\n",
      "2 iterations done\n",
      "3 iterations done\n",
      "4 iterations done\n",
      "5 iterations done\n",
      "6 iterations done\n",
      "7 iterations done\n",
      "8 iterations done\n",
      "9 iterations done\n",
      "10 iterations done\n",
      "11 iterations done\n",
      "12 iterations done\n",
      "13 iterations done\n",
      "14 iterations done\n"
     ]
    },
    {
     "name": "stderr",
     "output_type": "stream",
     "text": [
      "\r\n",
      " 94%|███████████████████████████████████████████████████████████████████████████▉     | 30/32 [59:11<03:50, 115.24s/it]"
     ]
    },
    {
     "name": "stdout",
     "output_type": "stream",
     "text": [
      "0 iterations done\n",
      "1 iterations done\n",
      "2 iterations done\n",
      "3 iterations done\n",
      "4 iterations done\n",
      "5 iterations done\n",
      "6 iterations done\n",
      "7 iterations done\n",
      "8 iterations done\n",
      "9 iterations done\n",
      "10 iterations done\n",
      "11 iterations done\n",
      "12 iterations done\n",
      "13 iterations done\n",
      "14 iterations done\n"
     ]
    },
    {
     "name": "stderr",
     "output_type": "stream",
     "text": [
      "\r\n",
      " 97%|████████████████████████████████████████████████████████████████████████████▌  | 31/32 [1:01:04<01:54, 114.50s/it]"
     ]
    },
    {
     "name": "stdout",
     "output_type": "stream",
     "text": [
      "0 iterations done\n",
      "1 iterations done\n",
      "2 iterations done\n",
      "3 iterations done\n",
      "4 iterations done\n",
      "5 iterations done\n",
      "6 iterations done\n",
      "7 iterations done\n",
      "8 iterations done\n",
      "9 iterations done\n",
      "10 iterations done\n",
      "11 iterations done\n",
      "12 iterations done\n",
      "13 iterations done\n",
      "14 iterations done\n"
     ]
    },
    {
     "name": "stderr",
     "output_type": "stream",
     "text": [
      "100%|███████████████████████████████████████████████████████████████████████████████| 32/32 [1:02:55<00:00, 117.98s/it]\n"
     ]
    }
   ],
   "source": [
    "for block in tqdm(range(0, int(len(image_files)/1000))):\n",
    "    # Normalize. Same was done during training.\n",
    "    images2 = np.copy(images[1000*block:1000*(block+1)]/255)\n",
    "    #to_modify = np.ones(len(image_files), dtype=\"int8\")\n",
    "    to_modify = np.ones(1000, dtype=\"int8\")\n",
    "    # The target for the image. This will be full angle in opposite direction\n",
    "    true_angles = np.copy(true_angles_all[1000*block:1000*(block+1)])\n",
    "    targets = np.ones((1000,1), dtype=\"int8\")\n",
    "    targets[true_angles > 0] = -1\n",
    "    targets = tf.convert_to_tensor(targets, dtype=\"float\")\n",
    "\n",
    "    # Get the adversarial image\n",
    "    # Find the target.This opposite steering angle\n",
    "\n",
    "    for i in range(15):\n",
    "        print(f'{i} iterations done')\n",
    "        if np.sum(to_modify) == 0:\n",
    "            break\n",
    "        with tf.GradientTape() as tape:\n",
    "            imgs_tf = tf.Variable(images2[to_modify == 1], dtype=float)\n",
    "            outputs = model(imgs_tf, training=False)\n",
    "            loss = (outputs[0]-targets[to_modify == 1])**2 #MSE\n",
    "\n",
    "        grads = tape.gradient(loss, imgs_tf)\n",
    "        grads /= (np.sqrt(np.sum(grads**2)))\n",
    "\n",
    "        images2[to_modify == 1] -= lr*np.array(grads)\n",
    "        \n",
    "        # We modify until the difference between original value and the prediction is greater than 0.8\n",
    "        to_modify[to_modify == 1][(np.abs(outputs[0]-true_angles[to_modify == 1]) >= 0.8).reshape(-1)] = 0\n",
    "        \n",
    "    images2[images2 < 0] = 0 # Keep values in range.\n",
    "    images2[images2 > 1] = 1\n",
    "    \n",
    "    for i in range(1000):\n",
    "        tf.keras.preprocessing.image.save_img(f'images_adversarial/tub_1_22-11-12_adversarial/images/{block*1000+i}_cam_image_array_.jpg', images2[i,:,:,:])"
   ]
  },
  {
   "cell_type": "code",
   "execution_count": null,
   "id": "702e6373",
   "metadata": {},
   "outputs": [],
   "source": []
  }
 ],
 "metadata": {
  "kernelspec": {
   "display_name": "Python 3",
   "language": "python",
   "name": "python3"
  },
  "language_info": {
   "codemirror_mode": {
    "name": "ipython",
    "version": 3
   },
   "file_extension": ".py",
   "mimetype": "text/x-python",
   "name": "python",
   "nbconvert_exporter": "python",
   "pygments_lexer": "ipython3",
   "version": "3.10.0 (tags/v3.10.0:b494f59, Oct  4 2021, 19:00:18) [MSC v.1929 64 bit (AMD64)]"
  },
  "vscode": {
   "interpreter": {
    "hash": "ea928f5d67c4c93314bde902f9925b00b35f33a7a7fd46f2f8b2a0108e4de065"
   }
  }
 },
 "nbformat": 4,
 "nbformat_minor": 5
}
