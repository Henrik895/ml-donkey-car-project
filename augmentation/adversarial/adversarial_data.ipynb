{
 "cells": [
  {
   "cell_type": "code",
   "execution_count": null,
   "id": "ea0cdfdb",
   "metadata": {},
   "outputs": [],
   "source": [
    "import numpy as np\n",
    "import matplotlib.pyplot as plt\n",
    "import tensorflow as tf\n",
    "import tensorflow.keras as keras\n",
    "import os\n",
    "import sys\n",
    "from tqdm import tqdm"
   ]
  },
  {
   "cell_type": "code",
   "execution_count": null,
   "id": "61e0b0e7",
   "metadata": {},
   "outputs": [],
   "source": [
    "# Load the model\n",
    "model = tf.keras.models.load_model('models/test25.h5')\n",
    "\n",
    "image_files = os.listdir('tub_1_22-11-12/images/')\n",
    "images = np.zeros((len(image_files),120,160,3), dtype=\"float\")\n",
    "true_angles_all = np.zeros((len(image_files),1))\n",
    "lr = 0.5"
   ]
  },
  {
   "cell_type": "code",
   "execution_count": null,
   "id": "be225dcf",
   "metadata": {},
   "outputs": [],
   "source": [
    "for count in tqdm(range(len(image_files)-len(image_files)%1000)):\n",
    "    # Read in the new catalog. From catalog we get true values for the picture.\n",
    "    if count % 1000 == 0:\n",
    "        with open(f'tub_1_22-11-12/catalog_{count%1000}.catalog', 'r') as f:\n",
    "            text_org = f.read()\n",
    "            text = text_org.split(\"\\n\")\n",
    "        with open(f'images_adversarial/tub_1_22-11-12_adversarial/catalog_{int(count/1000)}.catalog', 'w') as f:\n",
    "            f.write(text_org)\n",
    "    \n",
    "    # Get the true throttle and steering angle of the image.\n",
    "    values = text[count%1000].split(\", \")\n",
    "    filename = values[3][20:-1]\n",
    "    true_angles_all[count] = float(values[4][14:])\n",
    "    #true_throttle = float(values[6][17:-1])\n",
    "    \n",
    "    # Load in the image\n",
    "    _img = keras.preprocessing.image.load_img(f'tub_1_22-11-12/images/{filename}')\n",
    "    img = keras.preprocessing.image.img_to_array(_img)\n",
    "    images[count,:] = img\n",
    "    "
   ]
  },
  {
   "cell_type": "code",
   "execution_count": null,
   "id": "0486789d",
   "metadata": {},
   "outputs": [],
   "source": [
    "for block in tqdm(range(0, int(len(image_files)/1000))):\n",
    "    # Normalize. Same was done during training.\n",
    "    images2 = np.copy(images[1000*block:1000*(block+1)]/255)\n",
    "    \n",
    "    to_modify = np.ones(1000, dtype=\"int8\")\n",
    "    # The target for the image. This will be full angle in opposite direction\n",
    "    true_angles = np.copy(true_angles_all[1000*block:1000*(block+1)])\n",
    "    targets = np.ones((1000,1), dtype=\"int8\")\n",
    "    targets[true_angles > 0] = -1\n",
    "    targets = tf.convert_to_tensor(targets, dtype=\"float\")\n",
    "\n",
    "    # Get the adversarial image\n",
    "    # Find the target.This opposite steering angle\n",
    "\n",
    "    for i in range(15):\n",
    "        print(f'{i} iterations done')\n",
    "        if np.sum(to_modify) == 0:\n",
    "            break\n",
    "        with tf.GradientTape() as tape:\n",
    "            imgs_tf = tf.Variable(images2[to_modify == 1], dtype=float)\n",
    "            outputs = model(imgs_tf, training=False)\n",
    "            loss = (outputs[0]-targets[to_modify == 1])**2 #MSE\n",
    "\n",
    "        grads = tape.gradient(loss, imgs_tf)\n",
    "        grads /= (np.sqrt(np.sum(grads**2)))\n",
    "\n",
    "        images2[to_modify == 1] -= lr*np.array(grads)\n",
    "        \n",
    "        # We modify until the difference between original value and the prediction is greater than 0.8\n",
    "        to_modify[to_modify == 1][(np.abs(outputs[0]-true_angles[to_modify == 1]) >= 0.8).reshape(-1)] = 0\n",
    "        \n",
    "    images2[images2 < 0] = 0 # Keep values in range.\n",
    "    images2[images2 > 1] = 1\n",
    "    \n",
    "    for i in range(1000):\n",
    "        tf.keras.preprocessing.image.save_img(f'images_adversarial/tub_1_22-11-12_adversarial/images/{block*1000+i}_cam_image_array_.jpg', images2[i,:,:,:])"
   ]
  },
  {
   "cell_type": "code",
   "execution_count": null,
   "id": "702e6373",
   "metadata": {},
   "outputs": [],
   "source": []
  }
 ],
 "metadata": {
  "kernelspec": {
   "display_name": "Python 3 (ipykernel)",
   "language": "python",
   "name": "python3"
  },
  "language_info": {
   "codemirror_mode": {
    "name": "ipython",
    "version": 3
   },
   "file_extension": ".py",
   "mimetype": "text/x-python",
   "name": "python",
   "nbconvert_exporter": "python",
   "pygments_lexer": "ipython3",
   "version": "3.7.15"
  },
  "vscode": {
   "interpreter": {
    "hash": "ea928f5d67c4c93314bde902f9925b00b35f33a7a7fd46f2f8b2a0108e4de065"
   }
  }
 },
 "nbformat": 4,
 "nbformat_minor": 5
}
